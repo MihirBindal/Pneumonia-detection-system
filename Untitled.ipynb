{
 "cells": [
  {
   "cell_type": "code",
   "execution_count": 23,
   "metadata": {},
   "outputs": [],
   "source": [
    "from tensorflow.keras.preprocessing.image import ImageDataGenerator"
   ]
  },
  {
   "cell_type": "code",
   "execution_count": 24,
   "metadata": {},
   "outputs": [],
   "source": [
    "train_datagen=ImageDataGenerator(rescale=1./255, shear_range=0.2, zoom_range=0.2, horizontal_flip=True)\n",
    "test_datagen=ImageDataGenerator(rescale=1./255)"
   ]
  },
  {
   "cell_type": "code",
   "execution_count": 8,
   "metadata": {},
   "outputs": [
    {
     "name": "stdout",
     "output_type": "stream",
     "text": [
      "Found 5216 images belonging to 2 classes.\n",
      "Found 624 images belonging to 2 classes.\n",
      "Found 16 images belonging to 2 classes.\n"
     ]
    }
   ],
   "source": [
    "x_train=train_datagen.flow_from_directory(r'dataset\\train', target_size=(64,64),batch_size=32,class_mode='binary')\n",
    "x_test=test_datagen.flow_from_directory(r'dataset\\test', target_size=(64,64),batch_size=32,class_mode='binary')\n",
    "x_val=test_datagen.flow_from_directory(r'dataset\\val', target_size=(64,64),batch_size=32,class_mode='binary')"
   ]
  },
  {
   "cell_type": "code",
   "execution_count": 25,
   "metadata": {},
   "outputs": [
    {
     "data": {
      "text/plain": [
       "{'NORMAL': 0, 'PNEUMONIA': 1}"
      ]
     },
     "execution_count": 25,
     "metadata": {},
     "output_type": "execute_result"
    }
   ],
   "source": [
    "x_train.class_indices"
   ]
  },
  {
   "cell_type": "code",
   "execution_count": 10,
   "metadata": {},
   "outputs": [],
   "source": [
    "from keras.models import Sequential\n",
    "from keras.layers import Dense\n",
    "from keras.layers import Conv2D\n",
    "from keras.layers import MaxPooling2D\n",
    "from keras.layers import Flatten\n",
    "from keras.layers import Dropout"
   ]
  },
  {
   "cell_type": "code",
   "execution_count": 26,
   "metadata": {},
   "outputs": [],
   "source": [
    "model=Sequential() \n",
    "model.add(Conv2D(32, (3, 3), input_shape=(64,64,3),activation='relu'))\n",
    "model.add(MaxPooling2D(pool_size=(2,2)))\n",
    "model.add(Conv2D(64, (3, 3),activation='relu'))\n",
    "model.add(MaxPooling2D(pool_size=(2,2)))\n",
    "model.add(Conv2D(128, (3, 3),activation='relu'))\n",
    "model.add(MaxPooling2D(pool_size=(2,2)))\n",
    "model.add(Conv2D(128, (3, 3),activation='relu'))\n",
    "model.add(MaxPooling2D(pool_size=(2,2)))\n",
    "model.add(Flatten())\n",
    "model.add(Dropout(0.2))\n",
    "model.add(Dense(units=512, activation='relu'))\n",
    "model.add(Dense(units=1, activation='sigmoid'))"
   ]
  },
  {
   "cell_type": "code",
   "execution_count": 12,
   "metadata": {},
   "outputs": [
    {
     "name": "stdout",
     "output_type": "stream",
     "text": [
      "Model: \"sequential_1\"\n",
      "_________________________________________________________________\n",
      "Layer (type)                 Output Shape              Param #   \n",
      "=================================================================\n",
      "conv2d_1 (Conv2D)            (None, 62, 62, 32)        896       \n",
      "_________________________________________________________________\n",
      "max_pooling2d_1 (MaxPooling2 (None, 31, 31, 32)        0         \n",
      "_________________________________________________________________\n",
      "conv2d_2 (Conv2D)            (None, 29, 29, 64)        18496     \n",
      "_________________________________________________________________\n",
      "max_pooling2d_2 (MaxPooling2 (None, 14, 14, 64)        0         \n",
      "_________________________________________________________________\n",
      "conv2d_3 (Conv2D)            (None, 12, 12, 128)       73856     \n",
      "_________________________________________________________________\n",
      "max_pooling2d_3 (MaxPooling2 (None, 6, 6, 128)         0         \n",
      "_________________________________________________________________\n",
      "conv2d_4 (Conv2D)            (None, 4, 4, 128)         147584    \n",
      "_________________________________________________________________\n",
      "max_pooling2d_4 (MaxPooling2 (None, 2, 2, 128)         0         \n",
      "_________________________________________________________________\n",
      "flatten_1 (Flatten)          (None, 512)               0         \n",
      "_________________________________________________________________\n",
      "dropout_1 (Dropout)          (None, 512)               0         \n",
      "_________________________________________________________________\n",
      "dense_1 (Dense)              (None, 512)               262656    \n",
      "_________________________________________________________________\n",
      "dense_2 (Dense)              (None, 1)                 513       \n",
      "=================================================================\n",
      "Total params: 504,001\n",
      "Trainable params: 504,001\n",
      "Non-trainable params: 0\n",
      "_________________________________________________________________\n"
     ]
    }
   ],
   "source": [
    "model.summary()"
   ]
  },
  {
   "cell_type": "code",
   "execution_count": 27,
   "metadata": {},
   "outputs": [],
   "source": [
    "model.compile(optimizer='adam', loss='binary_crossentropy',metrics=['accuracy'])"
   ]
  },
  {
   "cell_type": "code",
   "execution_count": 28,
   "metadata": {},
   "outputs": [
    {
     "data": {
      "text/plain": [
       "<tf.Tensor 'conv2d_5_input:0' shape=(None, 64, 64, 3) dtype=float32>"
      ]
     },
     "execution_count": 28,
     "metadata": {},
     "output_type": "execute_result"
    }
   ],
   "source": [
    "model.input"
   ]
  },
  {
   "cell_type": "code",
   "execution_count": 29,
   "metadata": {},
   "outputs": [
    {
     "data": {
      "text/plain": [
       "<tf.Tensor 'dense_4/Sigmoid:0' shape=(None, 1) dtype=float32>"
      ]
     },
     "execution_count": 29,
     "metadata": {},
     "output_type": "execute_result"
    }
   ],
   "source": [
    "model.output"
   ]
  },
  {
   "cell_type": "code",
   "execution_count": 16,
   "metadata": {},
   "outputs": [
    {
     "name": "stdout",
     "output_type": "stream",
     "text": [
      "Epoch 1/20\n",
      "163/163 [==============================] - 80s 490ms/step - loss: 0.4777 - accuracy: 0.7849 - val_loss: 0.3246 - val_accuracy: 0.8237\n",
      "Epoch 2/20\n",
      "163/163 [==============================] - 74s 453ms/step - loss: 0.2766 - accuracy: 0.8792 - val_loss: 0.8265 - val_accuracy: 0.8173\n",
      "Epoch 3/20\n",
      "163/163 [==============================] - 74s 454ms/step - loss: 0.2303 - accuracy: 0.9087 - val_loss: 0.3825 - val_accuracy: 0.8798\n",
      "Epoch 4/20\n",
      "163/163 [==============================] - 73s 448ms/step - loss: 0.1865 - accuracy: 0.9271 - val_loss: 0.2830 - val_accuracy: 0.8830\n",
      "Epoch 5/20\n",
      "163/163 [==============================] - 73s 448ms/step - loss: 0.1823 - accuracy: 0.9258 - val_loss: 0.5220 - val_accuracy: 0.9119\n",
      "Epoch 6/20\n",
      "163/163 [==============================] - 74s 454ms/step - loss: 0.1716 - accuracy: 0.9352 - val_loss: 0.4287 - val_accuracy: 0.8734\n",
      "Epoch 7/20\n",
      "163/163 [==============================] - 75s 463ms/step - loss: 0.1635 - accuracy: 0.9429 - val_loss: 0.2872 - val_accuracy: 0.8446\n",
      "Epoch 8/20\n",
      "163/163 [==============================] - 73s 448ms/step - loss: 0.1578 - accuracy: 0.9396 - val_loss: 0.2808 - val_accuracy: 0.9167\n",
      "Epoch 9/20\n",
      "163/163 [==============================] - 74s 456ms/step - loss: 0.1539 - accuracy: 0.9387 - val_loss: 0.2057 - val_accuracy: 0.8910\n",
      "Epoch 10/20\n",
      "163/163 [==============================] - 72s 444ms/step - loss: 0.1413 - accuracy: 0.9452 - val_loss: 0.3815 - val_accuracy: 0.9151\n",
      "Epoch 11/20\n",
      "163/163 [==============================] - 73s 447ms/step - loss: 0.1395 - accuracy: 0.9475 - val_loss: 0.1974 - val_accuracy: 0.9231\n",
      "Epoch 12/20\n",
      "163/163 [==============================] - 73s 450ms/step - loss: 0.1529 - accuracy: 0.9400 - val_loss: 0.4044 - val_accuracy: 0.9231\n",
      "Epoch 13/20\n",
      "163/163 [==============================] - 75s 458ms/step - loss: 0.1486 - accuracy: 0.9400 - val_loss: 0.2453 - val_accuracy: 0.9135\n",
      "Epoch 14/20\n",
      "163/163 [==============================] - 74s 456ms/step - loss: 0.1358 - accuracy: 0.9480 - val_loss: 0.1577 - val_accuracy: 0.9295\n",
      "Epoch 15/20\n",
      "163/163 [==============================] - 75s 460ms/step - loss: 0.1317 - accuracy: 0.9496 - val_loss: 0.5828 - val_accuracy: 0.8910\n",
      "Epoch 16/20\n",
      "163/163 [==============================] - 75s 461ms/step - loss: 0.1287 - accuracy: 0.9532 - val_loss: 0.1326 - val_accuracy: 0.9295\n",
      "Epoch 17/20\n",
      "163/163 [==============================] - 74s 455ms/step - loss: 0.1185 - accuracy: 0.9565 - val_loss: 0.3579 - val_accuracy: 0.9071\n",
      "Epoch 18/20\n",
      "163/163 [==============================] - 75s 459ms/step - loss: 0.1220 - accuracy: 0.9519 - val_loss: 0.0493 - val_accuracy: 0.9343\n",
      "Epoch 19/20\n",
      "163/163 [==============================] - 75s 462ms/step - loss: 0.1154 - accuracy: 0.9592 - val_loss: 0.6445 - val_accuracy: 0.8478\n",
      "Epoch 20/20\n",
      "163/163 [==============================] - 74s 451ms/step - loss: 0.1224 - accuracy: 0.9571 - val_loss: 0.0430 - val_accuracy: 0.9343\n"
     ]
    },
    {
     "data": {
      "text/plain": [
       "<keras.callbacks.callbacks.History at 0x2a4339916d8>"
      ]
     },
     "execution_count": 16,
     "metadata": {},
     "output_type": "execute_result"
    }
   ],
   "source": [
    "model.fit_generator(x_train,epochs=20,validation_data=x_test)"
   ]
  },
  {
   "cell_type": "code",
   "execution_count": 17,
   "metadata": {},
   "outputs": [
    {
     "name": "stdout",
     "output_type": "stream",
     "text": [
      "\n",
      "accuracy: 93.43%\n"
     ]
    }
   ],
   "source": [
    "# evaluate the model\n",
    "scores = model.evaluate_generator(x_test)\n",
    "print(\"\\n%s: %.2f%%\" % (model.metrics_names[1], scores[1]*100))"
   ]
  },
  {
   "cell_type": "code",
   "execution_count": 18,
   "metadata": {},
   "outputs": [],
   "source": [
    "model.save(\"mymodel.h5\")"
   ]
  },
  {
   "cell_type": "code",
   "execution_count": 30,
   "metadata": {},
   "outputs": [],
   "source": [
    "from keras.models import load_model\n",
    "import numpy as np\n",
    "import cv2\n",
    "model = load_model(\"mymodel.h5\")"
   ]
  },
  {
   "cell_type": "code",
   "execution_count": 31,
   "metadata": {},
   "outputs": [],
   "source": [
    "model.compile(optimizer='adam', loss='binary_crossentropy',metrics=['accuracy'])"
   ]
  },
  {
   "cell_type": "code",
   "execution_count": 32,
   "metadata": {},
   "outputs": [],
   "source": [
    "from skimage.transform import resize\n",
    "def detect(frame):\n",
    "    try:\n",
    "        img=resize(frame,(64,64))\n",
    "        img=np.expand_dims(img, axis=0)\n",
    "        if(np.max(img)>1):\n",
    "            img=img/255.0\n",
    "        prediction=model.predict(img)\n",
    "        prediction=prediction[0][0]\n",
    "        if prediction>0.5:\n",
    "            prediction=prediction*100\n",
    "        else:\n",
    "            prediction=(1-prediction)*100\n",
    "        prediction_class=model.predict_classes(img)\n",
    "        if prediction_class == 0:\n",
    "            prediction_class= \"Normal\"\n",
    "        else:\n",
    "            prediction_class= \"Pneumoniac\"\n",
    "        print(\"I am {:.2f}% sure this person is {}\".format(prediction, prediction_class))\n",
    "    except AttributeError:\n",
    "        print(\"image not found\")"
   ]
  },
  {
   "cell_type": "code",
   "execution_count": 22,
   "metadata": {},
   "outputs": [
    {
     "name": "stdout",
     "output_type": "stream",
     "text": [
      "image not found\n"
     ]
    }
   ],
   "source": [
    "frame=cv2.imread(\"sample.jpeg\")\n",
    "detect(frame)"
   ]
  },
  {
   "cell_type": "code",
   "execution_count": null,
   "metadata": {},
   "outputs": [],
   "source": []
  }
 ],
 "metadata": {
  "kernelspec": {
   "display_name": "Python 3",
   "language": "python",
   "name": "python3"
  },
  "language_info": {
   "codemirror_mode": {
    "name": "ipython",
    "version": 3
   },
   "file_extension": ".py",
   "mimetype": "text/x-python",
   "name": "python",
   "nbconvert_exporter": "python",
   "pygments_lexer": "ipython3",
   "version": "3.7.3"
  }
 },
 "nbformat": 4,
 "nbformat_minor": 4
}
